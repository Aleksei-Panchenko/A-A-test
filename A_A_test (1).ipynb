{
 "cells": [
  {
   "cell_type": "code",
   "execution_count": 55,
   "metadata": {},
   "outputs": [],
   "source": [
    "import numpy as np\n",
    "import pandas as pd\n",
    "from scipy import stats\n",
    "import matplotlib.pyplot as plt\n",
    "\n",
    "from tqdm.auto import tqdm\n"
   ]
  },
  {
   "cell_type": "code",
   "execution_count": 56,
   "metadata": {},
   "outputs": [
    {
     "data": {
      "text/html": [
       "<div>\n",
       "<style scoped>\n",
       "    .dataframe tbody tr th:only-of-type {\n",
       "        vertical-align: middle;\n",
       "    }\n",
       "\n",
       "    .dataframe tbody tr th {\n",
       "        vertical-align: top;\n",
       "    }\n",
       "\n",
       "    .dataframe thead th {\n",
       "        text-align: right;\n",
       "    }\n",
       "</style>\n",
       "<table border=\"1\" class=\"dataframe\">\n",
       "  <thead>\n",
       "    <tr style=\"text-align: right;\">\n",
       "      <th></th>\n",
       "      <th>Unnamed: 0</th>\n",
       "      <th>uid</th>\n",
       "      <th>experimentVariant</th>\n",
       "      <th>version</th>\n",
       "      <th>purchase</th>\n",
       "    </tr>\n",
       "  </thead>\n",
       "  <tbody>\n",
       "    <tr>\n",
       "      <th>0</th>\n",
       "      <td>1</td>\n",
       "      <td>c4ca4238a0b923820dcc509a6f75849b</td>\n",
       "      <td>1</td>\n",
       "      <td>v2.8.0</td>\n",
       "      <td>0</td>\n",
       "    </tr>\n",
       "    <tr>\n",
       "      <th>1</th>\n",
       "      <td>2</td>\n",
       "      <td>c81e728d9d4c2f636f067f89cc14862c</td>\n",
       "      <td>0</td>\n",
       "      <td>v2.9.0</td>\n",
       "      <td>0</td>\n",
       "    </tr>\n",
       "    <tr>\n",
       "      <th>2</th>\n",
       "      <td>3</td>\n",
       "      <td>eccbc87e4b5ce2fe28308fd9f2a7baf3</td>\n",
       "      <td>1</td>\n",
       "      <td>v2.9.0</td>\n",
       "      <td>0</td>\n",
       "    </tr>\n",
       "    <tr>\n",
       "      <th>3</th>\n",
       "      <td>4</td>\n",
       "      <td>a87ff679a2f3e71d9181a67b7542122c</td>\n",
       "      <td>1</td>\n",
       "      <td>v2.8.0</td>\n",
       "      <td>0</td>\n",
       "    </tr>\n",
       "    <tr>\n",
       "      <th>4</th>\n",
       "      <td>5</td>\n",
       "      <td>e4da3b7fbbce2345d7772b0674a318d5</td>\n",
       "      <td>1</td>\n",
       "      <td>v2.8.0</td>\n",
       "      <td>0</td>\n",
       "    </tr>\n",
       "  </tbody>\n",
       "</table>\n",
       "</div>"
      ],
      "text/plain": [
       "   Unnamed: 0                               uid  experimentVariant version  \\\n",
       "0           1  c4ca4238a0b923820dcc509a6f75849b                  1  v2.8.0   \n",
       "1           2  c81e728d9d4c2f636f067f89cc14862c                  0  v2.9.0   \n",
       "2           3  eccbc87e4b5ce2fe28308fd9f2a7baf3                  1  v2.9.0   \n",
       "3           4  a87ff679a2f3e71d9181a67b7542122c                  1  v2.8.0   \n",
       "4           5  e4da3b7fbbce2345d7772b0674a318d5                  1  v2.8.0   \n",
       "\n",
       "   purchase  \n",
       "0         0  \n",
       "1         0  \n",
       "2         0  \n",
       "3         0  \n",
       "4         0  "
      ]
     },
     "execution_count": 56,
     "metadata": {},
     "output_type": "execute_result"
    }
   ],
   "source": [
    "df=pd.read_csv('/mnt/HC_Volume_18315164/home-jupyter/jupyter-a-panchenko/Statistics/hw_aa (1).csv',sep=';')\n",
    "df.head()"
   ]
  },
  {
   "cell_type": "code",
   "execution_count": 57,
   "metadata": {},
   "outputs": [
    {
     "data": {
      "text/plain": [
       "Unnamed: 0            int64\n",
       "uid                  object\n",
       "experimentVariant     int64\n",
       "version              object\n",
       "purchase              int64\n",
       "dtype: object"
      ]
     },
     "execution_count": 57,
     "metadata": {},
     "output_type": "execute_result"
    }
   ],
   "source": [
    "df.dtypes"
   ]
  },
  {
   "cell_type": "code",
   "execution_count": 58,
   "metadata": {},
   "outputs": [
    {
     "data": {
      "text/html": [
       "<div>\n",
       "<style scoped>\n",
       "    .dataframe tbody tr th:only-of-type {\n",
       "        vertical-align: middle;\n",
       "    }\n",
       "\n",
       "    .dataframe tbody tr th {\n",
       "        vertical-align: top;\n",
       "    }\n",
       "\n",
       "    .dataframe thead th {\n",
       "        text-align: right;\n",
       "    }\n",
       "</style>\n",
       "<table border=\"1\" class=\"dataframe\">\n",
       "  <thead>\n",
       "    <tr style=\"text-align: right;\">\n",
       "      <th></th>\n",
       "      <th>purchase</th>\n",
       "    </tr>\n",
       "    <tr>\n",
       "      <th>experimentVariant</th>\n",
       "      <th></th>\n",
       "    </tr>\n",
       "  </thead>\n",
       "  <tbody>\n",
       "    <tr>\n",
       "      <th>0</th>\n",
       "      <td>0.023945</td>\n",
       "    </tr>\n",
       "    <tr>\n",
       "      <th>1</th>\n",
       "      <td>0.053242</td>\n",
       "    </tr>\n",
       "  </tbody>\n",
       "</table>\n",
       "</div>"
      ],
      "text/plain": [
       "                   purchase\n",
       "experimentVariant          \n",
       "0                  0.023945\n",
       "1                  0.053242"
      ]
     },
     "execution_count": 58,
     "metadata": {},
     "output_type": "execute_result"
    }
   ],
   "source": [
    "df.groupby('experimentVariant').agg({'purchase':'mean'}) # смотрим среднее и видим ,что разница есть"
   ]
  },
  {
   "cell_type": "code",
   "execution_count": 59,
   "metadata": {},
   "outputs": [
    {
     "data": {
      "application/vnd.jupyter.widget-view+json": {
       "model_id": "90eae576c9424bf98ef0fe5ac2c2d76b",
       "version_major": 2,
       "version_minor": 0
      },
      "text/plain": [
       "HBox(children=(FloatProgress(value=0.0, max=1000.0), HTML(value='')))"
      ]
     },
     "metadata": {},
     "output_type": "display_data"
    },
    {
     "name": "stdout",
     "output_type": "stream",
     "text": [
      "\n"
     ]
    },
    {
     "data": {
      "image/png": "[encoded data removed]",
      "text/plain": [
       "<Figure size 432x288 with 1 Axes>"
      ]
     },
     "metadata": {},
     "output_type": "display_data"
    },
    {
     "data": {
      "text/plain": [
       "0.919"
      ]
     },
     "execution_count": 59,
     "metadata": {},
     "output_type": "execute_result"
    }
   ],
   "source": [
    "n = 100000\n",
    "simulations = 1000\n",
    "n_s = 1000\n",
    "res = []\n",
    "\n",
    "\n",
    "\n",
    "for i in tqdm(range(simulations)):\n",
    "    s1 = df[df.experimentVariant==1]['purchase'].sample(n_s, replace = False).values\n",
    "    s2 = df[df.experimentVariant==0]['purchase'].sample(n_s, replace = False).values\n",
    "    res.append(stats.ttest_ind(s1, s2, equal_var = False)[1])\n",
    "\n",
    "plt.hist(res, bins = 50)\n",
    "plt.style.use('ggplot')\n",
    "plt.xlabel('pvalues')\n",
    "plt.ylabel('frequency')\n",
    "plt.title(\"Histogram of ttest A/A simulations \")\n",
    "plt.show()\n",
    "\n",
    "# FPR не сойдется\n",
    "sum(np.array(res) <0.05) / simulations"
   ]
  },
  {
   "cell_type": "code",
   "execution_count": null,
   "metadata": {},
   "outputs": [],
   "source": [
    "# Видим, что более чем  в 90% случиях сравнения средних есть стат значимые различия"
   ]
  },
  {
   "cell_type": "code",
   "execution_count": 43,
   "metadata": {},
   "outputs": [
    {
     "data": {
      "text/html": [
       "<div>\n",
       "<style scoped>\n",
       "    .dataframe tbody tr th:only-of-type {\n",
       "        vertical-align: middle;\n",
       "    }\n",
       "\n",
       "    .dataframe tbody tr th {\n",
       "        vertical-align: top;\n",
       "    }\n",
       "\n",
       "    .dataframe thead th {\n",
       "        text-align: right;\n",
       "    }\n",
       "</style>\n",
       "<table border=\"1\" class=\"dataframe\">\n",
       "  <thead>\n",
       "    <tr style=\"text-align: right;\">\n",
       "      <th></th>\n",
       "      <th>experimentVariant</th>\n",
       "      <th>version</th>\n",
       "      <th>purchase</th>\n",
       "      <th>Unnamed: 0</th>\n",
       "    </tr>\n",
       "  </thead>\n",
       "  <tbody>\n",
       "    <tr>\n",
       "      <th>0</th>\n",
       "      <td>0</td>\n",
       "      <td>v2.8.0</td>\n",
       "      <td>0.000993</td>\n",
       "      <td>41283</td>\n",
       "    </tr>\n",
       "    <tr>\n",
       "      <th>1</th>\n",
       "      <td>0</td>\n",
       "      <td>v2.9.0</td>\n",
       "      <td>0.074658</td>\n",
       "      <td>11921</td>\n",
       "    </tr>\n",
       "    <tr>\n",
       "      <th>2</th>\n",
       "      <td>0</td>\n",
       "      <td>v3.7.4.0</td>\n",
       "      <td>0.059943</td>\n",
       "      <td>4204</td>\n",
       "    </tr>\n",
       "    <tr>\n",
       "      <th>3</th>\n",
       "      <td>0</td>\n",
       "      <td>v3.8.0.0</td>\n",
       "      <td>0.057604</td>\n",
       "      <td>5694</td>\n",
       "    </tr>\n",
       "    <tr>\n",
       "      <th>4</th>\n",
       "      <td>1</td>\n",
       "      <td>v2.8.0</td>\n",
       "      <td>0.045606</td>\n",
       "      <td>41552</td>\n",
       "    </tr>\n",
       "    <tr>\n",
       "      <th>5</th>\n",
       "      <td>1</td>\n",
       "      <td>v2.9.0</td>\n",
       "      <td>0.071304</td>\n",
       "      <td>12033</td>\n",
       "    </tr>\n",
       "    <tr>\n",
       "      <th>6</th>\n",
       "      <td>1</td>\n",
       "      <td>v3.7.4.0</td>\n",
       "      <td>0.063018</td>\n",
       "      <td>4221</td>\n",
       "    </tr>\n",
       "    <tr>\n",
       "      <th>7</th>\n",
       "      <td>1</td>\n",
       "      <td>v3.8.0.0</td>\n",
       "      <td>0.062848</td>\n",
       "      <td>6110</td>\n",
       "    </tr>\n",
       "  </tbody>\n",
       "</table>\n",
       "</div>"
      ],
      "text/plain": [
       "   experimentVariant   version  purchase  Unnamed: 0\n",
       "0                  0    v2.8.0  0.000993       41283\n",
       "1                  0    v2.9.0  0.074658       11921\n",
       "2                  0  v3.7.4.0  0.059943        4204\n",
       "3                  0  v3.8.0.0  0.057604        5694\n",
       "4                  1    v2.8.0  0.045606       41552\n",
       "5                  1    v2.9.0  0.071304       12033\n",
       "6                  1  v3.7.4.0  0.063018        4221\n",
       "7                  1  v3.8.0.0  0.062848        6110"
      ]
     },
     "execution_count": 43,
     "metadata": {},
     "output_type": "execute_result"
    }
   ],
   "source": [
    "df.groupby(['experimentVariant','version'],as_index=False).agg({'purchase':'mean','Unnamed: 0':'count'})\n",
    "# Сгруппируем по группе и версии МП. Впринципе уже видно что большая разница в группах с версией v2.8.0"
   ]
  },
  {
   "cell_type": "code",
   "execution_count": 51,
   "metadata": {},
   "outputs": [
    {
     "data": {
      "text/plain": [
       "Ttest_indResult(statistic=42.963540840360324, pvalue=0.0)"
      ]
     },
     "execution_count": 51,
     "metadata": {},
     "output_type": "execute_result"
    }
   ],
   "source": [
    "stats.ttest_ind(df[(df.experimentVariant==1) &(df.version=='v2.8.0')]['purchase'],df[(df.experimentVariant==0) &(df.version=='v2.8.0')]['purchase'])"
   ]
  },
  {
   "cell_type": "code",
   "execution_count": 52,
   "metadata": {},
   "outputs": [
    {
     "data": {
      "text/plain": [
       "Ttest_indResult(statistic=-0.9979597634962479, pvalue=0.31830895167207446)"
      ]
     },
     "execution_count": 52,
     "metadata": {},
     "output_type": "execute_result"
    }
   ],
   "source": [
    "stats.ttest_ind(df[(df.experimentVariant==1) &(df.version=='v2.9.0')]['purchase'],df[(df.experimentVariant==0) &(df.version=='v2.9.0')]['purchase'])"
   ]
  },
  {
   "cell_type": "code",
   "execution_count": 53,
   "metadata": {},
   "outputs": [
    {
     "data": {
      "text/plain": [
       "Ttest_indResult(statistic=0.5874925850487471, pvalue=0.5568886771079735)"
      ]
     },
     "execution_count": 53,
     "metadata": {},
     "output_type": "execute_result"
    }
   ],
   "source": [
    "stats.ttest_ind(df[(df.experimentVariant==1) &(df.version=='v3.7.4.0')]['purchase'],df[(df.experimentVariant==0) &(df.version=='v3.7.4.0')]['purchase'])"
   ]
  },
  {
   "cell_type": "code",
   "execution_count": 54,
   "metadata": {},
   "outputs": [
    {
     "data": {
      "text/plain": [
       "Ttest_indResult(statistic=1.1956188950206779, pvalue=0.23186933664059722)"
      ]
     },
     "execution_count": 54,
     "metadata": {},
     "output_type": "execute_result"
    }
   ],
   "source": [
    "stats.ttest_ind(df[(df.experimentVariant==1) &(df.version=='v3.8.0.0')]['purchase'],df[(df.experimentVariant==0) &(df.version=='v3.8.0.0')]['purchase'])"
   ]
  },
  {
   "cell_type": "code",
   "execution_count": null,
   "metadata": {},
   "outputs": [],
   "source": [
    "# Уберем из таблицы данные по пользователям МП с версией v2.8.0"
   ]
  },
  {
   "cell_type": "code",
   "execution_count": null,
   "metadata": {},
   "outputs": [],
   "source": [
    "n = 100000\n",
    "simulations = 1000\n",
    "n_s = 1000\n",
    "res = []\n",
    "\n",
    "\n",
    "\n",
    "for i in tqdm(range(simulations)):\n",
    "    s1 = df[(df.experimentVariant==1) & (df.version!='v2.8.0')]['purchase'].sample(n_s, replace = False).values\n",
    "    s2 = df[(df.experimentVariant==0) & (df.version!='v2.8.0')]['purchase'].sample(n_s, replace = False).values\n",
    "    res.append(stats.ttest_ind(s1, s2, equal_var = False)[1])\n",
    "\n",
    "plt.hist(res, bins = 50)\n",
    "plt.style.use('ggplot')\n",
    "plt.xlabel('pvalues')\n",
    "plt.ylabel('frequency')\n",
    "plt.title(\"Histogram of ttest A/A simulations \")\n",
    "plt.show()\n",
    "\n",
    "# FPR не сойдется\n",
    "sum(np.array(res) <0.05) / simulations"
   ]
  },
  {
   "cell_type": "code",
   "execution_count": null,
   "metadata": {},
   "outputs": [],
   "source": [
    "# Вывод. Проанализировав данные мы увидили, что стат значимая разница есть у пользователей с версией МП v2.8.0.\n",
    "# Сплит-систма сломана. В группе 0 у нас конверсия МП v2.8.0. намного меньше чем в группе 1."
   ]
  }
 ],
 "metadata": {
  "kernelspec": {
   "display_name": "Python 3 (ipykernel)",
   "language": "python",
   "name": "python3"
  },
  "language_info": {
   "codemirror_mode": {
    "name": "ipython",
    "version": 3
   },
   "file_extension": ".py",
   "mimetype": "text/x-python",
   "name": "python",
   "nbconvert_exporter": "python",
   "pygments_lexer": "ipython3",
   "version": "3.9.12"
  }
 },
 "nbformat": 4,
 "nbformat_minor": 4
}
